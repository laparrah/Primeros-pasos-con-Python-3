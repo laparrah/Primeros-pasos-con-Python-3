{
 "cells": [
  {
   "cell_type": "markdown",
   "metadata": {},
   "source": [
    "### Ejercicio: condicionales y condicionales anidadas"
   ]
  },
  {
   "cell_type": "code",
   "execution_count": 1,
   "metadata": {},
   "outputs": [],
   "source": [
    "#Solicitar las calificaciones de tres unidades, calcular el promedio:\n",
    "#   promedio=>7 está aprobado: promedio>=9 es sobresaliente, promedio=7 suficiente, promedio<7 insuficiente"
   ]
  },
  {
   "cell_type": "code",
   "execution_count": 10,
   "metadata": {},
   "outputs": [],
   "source": [
    "def promedio():\n",
    "    calif1 = float(input(\"¿Cuál es la primera calificación?: \"))\n",
    "    calif2 = float(input(\"¿Cuál es la segunda calificación?: \"))\n",
    "    calif3 = float(input(\"¿Cuál es la tercera calificación?: \"))\n",
    "    \n",
    "    promedio = (calif1+calif2+calif3)/3\n",
    "    \n",
    "    # inicio-condicional\n",
    "    if(promedio>=7):\n",
    "        print(\"\\nEl promedio obtenido es\", round(promedio,2), \"\\n Aprobado\")\n",
    "        \n",
    "        # inicio-condicional-anidada\n",
    "        if(promedio==7):\n",
    "            print(\"\\nPROMEDIO SUFICIENTE\")\n",
    "        elif(promedio>=9):    # else if ...\n",
    "            print(\"\\nPROMEDIO SOBRESALIENTE\")\n",
    "        \n",
    "    elif(promedio<7):    # else if ...\n",
    "        print(\"\\nEl promedio obtenido es\", round(promedio,2), \"\\nPROMEDIO INSUFICIENTE\")"
   ]
  },
  {
   "cell_type": "code",
   "execution_count": 11,
   "metadata": {},
   "outputs": [
    {
     "name": "stdout",
     "output_type": "stream",
     "text": [
      "¿Cuál es la primera calificación?: 10\n",
      "¿Cuál es la segunda calificación?: 9.84\n",
      "¿Cuál es la tercera calificación?: 6.89\n",
      "\n",
      "El promedio obtenido es 8.91 \n",
      " Aprobado\n"
     ]
    }
   ],
   "source": [
    "promedio()"
   ]
  },
  {
   "cell_type": "code",
   "execution_count": null,
   "metadata": {},
   "outputs": [],
   "source": []
  }
 ],
 "metadata": {
  "kernelspec": {
   "display_name": "Python 3",
   "language": "python",
   "name": "python3"
  },
  "language_info": {
   "codemirror_mode": {
    "name": "ipython",
    "version": 3
   },
   "file_extension": ".py",
   "mimetype": "text/x-python",
   "name": "python",
   "nbconvert_exporter": "python",
   "pygments_lexer": "ipython3",
   "version": "3.7.0"
  }
 },
 "nbformat": 4,
 "nbformat_minor": 2
}
