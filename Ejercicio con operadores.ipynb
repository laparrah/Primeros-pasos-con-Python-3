{
 "cells": [
  {
   "cell_type": "markdown",
   "metadata": {},
   "source": [
    "### Ejercicio con operadores"
   ]
  },
  {
   "cell_type": "code",
   "execution_count": 10,
   "metadata": {},
   "outputs": [],
   "source": [
    "def ej_operadores():\n",
    "    prod1 = input(\"Ingrese el nombre del primer producto: \")\n",
    "    pp1 = float(input(\"Ingrese el precio del producto 1: \"))\n",
    "\n",
    "    prod2 = input(\"Ingrese el nombre del primer producto: \")\n",
    "    pp2 = float(input(\"Ingrese el precio del producto 1: \"))\n",
    "\n",
    "    prod3 = input(\"Ingrese el nombre del primer producto: \")\n",
    "    pp3 = float(input(\"Ingrese el precio del producto 1: \"))\n",
    "\n",
    "    iva = 0.16\n",
    "\n",
    "    total = pp1+pp2+pp3\n",
    "    totaliva = total+(total*0.16)\n",
    "    \n",
    "    print(\"\\n\\nLos productos son: \",prod1,\" $\",pp1,\", \",prod2,\" $\",pp2,\", \",prod3,\" $\",pp3)\n",
    "    print(\"\\n Total: $\",total,\", Total + IVA 16%: $\",totaliva)"
   ]
  },
  {
   "cell_type": "code",
   "execution_count": 11,
   "metadata": {},
   "outputs": [
    {
     "name": "stdout",
     "output_type": "stream",
     "text": [
      "Ingrese el nombre del primer producto: agua\n",
      "Ingrese el precio del producto 1: 12.5\n",
      "Ingrese el nombre del primer producto: chocolate\n",
      "Ingrese el precio del producto 1: 21.60\n",
      "Ingrese el nombre del primer producto: yogurt\n",
      "Ingrese el precio del producto 1: 13.45\n",
      "\n",
      "\n",
      "Los productos son:  agua  $ 12.5 ,  chocolate  $ 21.6 ,  yogurt  $ 13.45\n",
      "\n",
      " Total: $ 47.55 , Total + IVA 16%: $ 55.157999999999994\n"
     ]
    }
   ],
   "source": [
    "ej_operadores()"
   ]
  },
  {
   "cell_type": "code",
   "execution_count": null,
   "metadata": {},
   "outputs": [],
   "source": []
  }
 ],
 "metadata": {
  "kernelspec": {
   "display_name": "Python 3",
   "language": "python",
   "name": "python3"
  },
  "language_info": {
   "codemirror_mode": {
    "name": "ipython",
    "version": 3
   },
   "file_extension": ".py",
   "mimetype": "text/x-python",
   "name": "python",
   "nbconvert_exporter": "python",
   "pygments_lexer": "ipython3",
   "version": "3.7.0"
  }
 },
 "nbformat": 4,
 "nbformat_minor": 2
}
