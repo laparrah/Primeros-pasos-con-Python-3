{
 "cells": [
  {
   "cell_type": "markdown",
   "metadata": {},
   "source": [
    "### Ejercicio con operadores"
   ]
  },
  {
   "cell_type": "code",
   "execution_count": 1,
   "metadata": {},
   "outputs": [],
   "source": [
    "def ej_operadores():\n",
    "    prod1 = input(\"Ingrese el nombre del primer producto: \")\n",
    "    pp1 = float(input(\"Ingrese el precio del producto 1: \"))\n",
    "\n",
    "    prod2 = input(\"Ingrese el nombre del primer producto: \")\n",
    "    pp2 = float(input(\"Ingrese el precio del producto 1: \"))\n",
    "\n",
    "    prod3 = input(\"Ingrese el nombre del primer producto: \")\n",
    "    pp3 = float(input(\"Ingrese el precio del producto 1: \"))\n",
    "\n",
    "    iva = 0.16\n",
    "\n",
    "    total = pp1+pp2+pp3\n",
    "    totaliva = total+(total*0.16)\n",
    "    \n",
    "    print(\"\\n\\nLos productos son: \",prod1,\" $\",pp1,\", \",prod2,\" $\",pp2,\", \",prod3,\" $\",pp3)\n",
    "    print(\"\\n Total: $\",round(total, 2),\", Total + IVA 16%: $\",round(totaliva, 2))"
   ]
  },
  {
   "cell_type": "code",
   "execution_count": 2,
   "metadata": {},
   "outputs": [
    {
     "name": "stdout",
     "output_type": "stream",
     "text": [
      "Ingrese el nombre del primer producto: agua\n",
      "Ingrese el precio del producto 1: 12.66\n",
      "Ingrese el nombre del primer producto: chocolate\n",
      "Ingrese el precio del producto 1: 19.55\n",
      "Ingrese el nombre del primer producto: yogurt\n",
      "Ingrese el precio del producto 1: 13.78\n",
      "\n",
      "\n",
      "Los productos son:  agua  $ 12.66 ,  chocolate  $ 19.55 ,  yogurt  $ 13.78\n",
      "\n",
      " Total: $ 45.99 , Total + IVA 16%: $ 53.35\n"
     ]
    }
   ],
   "source": [
    "ej_operadores()"
   ]
  },
  {
   "cell_type": "code",
   "execution_count": null,
   "metadata": {},
   "outputs": [],
   "source": []
  }
 ],
 "metadata": {
  "kernelspec": {
   "display_name": "Python 3",
   "language": "python",
   "name": "python3"
  },
  "language_info": {
   "codemirror_mode": {
    "name": "ipython",
    "version": 3
   },
   "file_extension": ".py",
   "mimetype": "text/x-python",
   "name": "python",
   "nbconvert_exporter": "python",
   "pygments_lexer": "ipython3",
   "version": "3.7.0"
  }
 },
 "nbformat": 4,
 "nbformat_minor": 2
}
