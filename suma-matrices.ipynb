{
 "cells": [
  {
   "cell_type": "markdown",
   "metadata": {},
   "source": [
    "### Suma de matrices aleatorias"
   ]
  },
  {
   "cell_type": "code",
   "execution_count": 4,
   "metadata": {},
   "outputs": [],
   "source": [
    "import numpy as np, random\n",
    "\n",
    "def suma_matrices_rand():\n",
    "    print(\"*** Dimensiones de la primera matriz ***\")\n",
    "    n = int(input(\"Ingrese el número de filas de la matriz: \"))\n",
    "    m = int(input(\"Ingrese el número de columnas de la matriz: \"))\n",
    "\n",
    "    print(\"\\n*** Dimensiones de la segunda matriz ***\")\n",
    "    r = int(input(\"Ingrese el número de filas de la matriz: \"))\n",
    "    s = int(input(\"Ingrese el número de columnas de la matriz: \"))\n",
    "    \n",
    "    # se crean las matrices con números aleatorios enteros 0-100\n",
    "    a = np.random.randint(0, 100, size=(n, m))\n",
    "    b = np.random.randint(0, 100, size=(r, s))\n",
    "    \n",
    "    if(n!=r | m!=s):\n",
    "            print(\"\\nLas dimensiones de las matrices son diferentes\")\n",
    "            print(\"No se puede realizar la operación\")\n",
    "    else:\n",
    "        #crea una matriz de ceros nxm (dtype=int --> para numeros enteros)\n",
    "        c = np.zeros((n,m), dtype=int)\n",
    "        for i in range(n):\n",
    "            for j in range(m):\n",
    "                #realiza la suma de a con b\n",
    "                c[i][j] = (a[i][j] + b[i][j])\n",
    "\n",
    "        print(\"A = \\n\", a, \"\\n\")\n",
    "        print(\"B = \\n\", b, \"\\n\")\n",
    "        print(\"\\n A + B = \\n\",c)"
   ]
  },
  {
   "cell_type": "code",
   "execution_count": 129,
   "metadata": {},
   "outputs": [
    {
     "name": "stdout",
     "output_type": "stream",
     "text": [
      "*** Dimensiones de la primera matriz ***\n",
      "Ingrese el número de filas de la matriz: 2\n",
      "Ingrese el número de columnas de la matriz: 2\n",
      "\n",
      "*** Dimensiones de la segunda matriz ***\n",
      "Ingrese el número de filas de la matriz: 2\n",
      "Ingrese el número de columnas de la matriz: 2\n",
      "A = \n",
      " [[18 75]\n",
      " [50 67]] \n",
      "\n",
      "B = \n",
      " [[41 52]\n",
      " [74 27]] \n",
      "\n",
      "\n",
      " A + B = \n",
      " [[ 59 127]\n",
      " [124  94]]\n"
     ]
    }
   ],
   "source": [
    "suma_matrices_rand()"
   ]
  },
  {
   "cell_type": "markdown",
   "metadata": {},
   "source": [
    "### Suma de matrices"
   ]
  },
  {
   "cell_type": "code",
   "execution_count": 91,
   "metadata": {},
   "outputs": [],
   "source": [
    "import numpy as np\n",
    "\n",
    "def suma_matrices():\n",
    "    a = []\n",
    "    b = []\n",
    "    \n",
    "    # Definición del tamaño de la matriz A\n",
    "    print(\"*** Dimensiones de la primera matriz ***\")\n",
    "    n = int(input(\"Ingrese el número de filas de la matriz: \"))\n",
    "    m = int(input(\"Ingrese el número de columnas de la matriz: \"))\n",
    "    \n",
    "    # Definición del tamaño de la matriz B\n",
    "    print(\"\\n*** Dimensiones de la segunda matriz ***\")\n",
    "    r = int(input(\"Ingrese el número de filas de la matriz: \"))\n",
    "    s = int(input(\"Ingrese el número de columnas de la matriz: \"))\n",
    "    \n",
    "    # Se verifican las dimensiones de ambas matrices\n",
    "    if(n!=r | m!=s):\n",
    "        print(\"\\nLas dimensiones de las matrices son diferentes\")\n",
    "        print(\"No se puede realizar la operación\")\n",
    "    else:\n",
    "        # Llenado de matriz A\n",
    "        print(\"\\n* Llenado de matriz A *\")\n",
    "        for i in range(n):\n",
    "            a.append([0]*m)\n",
    "            for j in range(m):\n",
    "                a[i][j] = int(input(\"\\nIngrese el valor (%d,%d): \" % (i, j)))\n",
    "    \n",
    "        # Llenado de matriz B\n",
    "        print(\"\\n* Llenado de matriz B *\")\n",
    "        for i in range(r):\n",
    "            b.append([0]*s)\n",
    "            for j in range(s):\n",
    "                b[i][j] = int(input(\"\\nIngrese el valor (%d,%d): \" % (i, j)))\n",
    "        \n",
    "        #crea una matriz C de ceros nxm\n",
    "        c = np.zeros((n,m), dtype=int)\n",
    "        \n",
    "        for i in range(n):\n",
    "            for j in range(m):\n",
    "                #realiza la suma de a con b\n",
    "                c[i][j] = (a[i][j] + b[i][j])\n",
    "\n",
    "        print(\"A = \\n\", np.array(a), \"\\n\")\n",
    "        print(\"B = \\n\", np.array(b), \"\\n\")\n",
    "        print(\"\\n A + B = \\n\", np.array(c))"
   ]
  },
  {
   "cell_type": "code",
   "execution_count": 93,
   "metadata": {},
   "outputs": [
    {
     "name": "stdout",
     "output_type": "stream",
     "text": [
      "*** Dimensiones de la primera matriz ***\n",
      "Ingrese el número de filas de la matriz: 2\n",
      "Ingrese el número de columnas de la matriz: 3\n",
      "\n",
      "*** Dimensiones de la segunda matriz ***\n",
      "Ingrese el número de filas de la matriz: 4\n",
      "Ingrese el número de columnas de la matriz: 2\n",
      "\n",
      "Las dimensiones de las matrices son diferentes\n",
      "No se puede realizar la operación\n"
     ]
    }
   ],
   "source": [
    "suma_matrices()"
   ]
  },
  {
   "cell_type": "code",
   "execution_count": 94,
   "metadata": {},
   "outputs": [
    {
     "name": "stdout",
     "output_type": "stream",
     "text": [
      "*** Dimensiones de la primera matriz ***\n",
      "Ingrese el número de filas de la matriz: 3\n",
      "Ingrese el número de columnas de la matriz: 3\n",
      "\n",
      "*** Dimensiones de la segunda matriz ***\n",
      "Ingrese el número de filas de la matriz: 3\n",
      "Ingrese el número de columnas de la matriz: 3\n",
      "\n",
      "* Llenado de matriz A *\n",
      "\n",
      "Ingrese el valor (0,0): 1\n",
      "\n",
      "Ingrese el valor (0,1): 2\n",
      "\n",
      "Ingrese el valor (0,2): 3\n",
      "\n",
      "Ingrese el valor (1,0): 4\n",
      "\n",
      "Ingrese el valor (1,1): 5\n",
      "\n",
      "Ingrese el valor (1,2): 6\n",
      "\n",
      "Ingrese el valor (2,0): 7\n",
      "\n",
      "Ingrese el valor (2,1): 8\n",
      "\n",
      "Ingrese el valor (2,2): 9\n",
      "\n",
      "* Llenado de matriz B *\n",
      "\n",
      "Ingrese el valor (0,0): 1\n",
      "\n",
      "Ingrese el valor (0,1): 2\n",
      "\n",
      "Ingrese el valor (0,2): 3\n",
      "\n",
      "Ingrese el valor (1,0): 4\n",
      "\n",
      "Ingrese el valor (1,1): 5\n",
      "\n",
      "Ingrese el valor (1,2): 6\n",
      "\n",
      "Ingrese el valor (2,0): 7\n",
      "\n",
      "Ingrese el valor (2,1): 8\n",
      "\n",
      "Ingrese el valor (2,2): 9\n",
      "A = \n",
      " [[1 2 3]\n",
      " [4 5 6]\n",
      " [7 8 9]] \n",
      "\n",
      "B = \n",
      " [[1 2 3]\n",
      " [4 5 6]\n",
      " [7 8 9]] \n",
      "\n",
      "\n",
      " A + B = \n",
      " [[ 2  4  6]\n",
      " [ 8 10 12]\n",
      " [14 16 18]]\n"
     ]
    }
   ],
   "source": [
    "suma_matrices()"
   ]
  },
  {
   "cell_type": "code",
   "execution_count": null,
   "metadata": {},
   "outputs": [],
   "source": []
  }
 ],
 "metadata": {
  "kernelspec": {
   "display_name": "Python 3",
   "language": "python",
   "name": "python3"
  },
  "language_info": {
   "codemirror_mode": {
    "name": "ipython",
    "version": 3
   },
   "file_extension": ".py",
   "mimetype": "text/x-python",
   "name": "python",
   "nbconvert_exporter": "python",
   "pygments_lexer": "ipython3",
   "version": "3.7.0"
  }
 },
 "nbformat": 4,
 "nbformat_minor": 2
}
