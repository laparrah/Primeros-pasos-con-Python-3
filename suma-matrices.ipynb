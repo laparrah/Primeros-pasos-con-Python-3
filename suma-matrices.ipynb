{
 "cells": [
  {
   "cell_type": "code",
   "execution_count": 128,
   "metadata": {},
   "outputs": [],
   "source": [
    "import numpy as np, random\n",
    "\n",
    "def suma_matrices():\n",
    "    print(\"*** Dimensiones de la primera matriz ***\")\n",
    "    n = int(input(\"Ingrese el número de filas de la matriz: \"))\n",
    "    m = int(input(\"Ingrese el número de columnas de la matriz: \"))\n",
    "\n",
    "    print(\"\\n*** Dimensiones de la segunda matriz ***\")\n",
    "    r = int(input(\"Ingrese el número de filas de la matriz: \"))\n",
    "    s = int(input(\"Ingrese el número de columnas de la matriz: \"))\n",
    "    \n",
    "    # se crean las matrices con números aleatorios enteros 0-100\n",
    "    a = np.random.randint(0, 100, size=(n, m))\n",
    "    b = np.random.randint(0, 100, size=(r, s))\n",
    "    \n",
    "    if(n!=r | m!=s):\n",
    "        print(\"\\nLas dimensiones de las matrices son diferentes\")\n",
    "        print(\"No se puede realizar la operación\")\n",
    "    else:\n",
    "        #crea una matriz de ceros nxm (dtype=int --> para numeros enteros)\n",
    "        c = np.zeros((n,m), dtype=int)\n",
    "        for i in range(n):\n",
    "            for j in range(m):\n",
    "                #realiza la suma de a con b\n",
    "                c[i][j] = (a[i][j] + b[i][j])\n",
    "    \n",
    "    print(\"A = \\n\", a, \"\\n\")\n",
    "    print(\"B = \\n\", b, \"\\n\")\n",
    "    print(\"\\n A + B = \\n\",c)\n"
   ]
  },
  {
   "cell_type": "code",
   "execution_count": 129,
   "metadata": {},
   "outputs": [
    {
     "name": "stdout",
     "output_type": "stream",
     "text": [
      "*** Dimensiones de la primera matriz ***\n",
      "Ingrese el número de filas de la matriz: 2\n",
      "Ingrese el número de columnas de la matriz: 2\n",
      "\n",
      "*** Dimensiones de la segunda matriz ***\n",
      "Ingrese el número de filas de la matriz: 2\n",
      "Ingrese el número de columnas de la matriz: 2\n",
      "A = \n",
      " [[18 75]\n",
      " [50 67]] \n",
      "\n",
      "B = \n",
      " [[41 52]\n",
      " [74 27]] \n",
      "\n",
      "\n",
      " A + B = \n",
      " [[ 59 127]\n",
      " [124  94]]\n"
     ]
    }
   ],
   "source": [
    "suma_matrices()"
   ]
  },
  {
   "cell_type": "code",
   "execution_count": null,
   "metadata": {},
   "outputs": [],
   "source": []
  }
 ],
 "metadata": {
  "kernelspec": {
   "display_name": "Python 3",
   "language": "python",
   "name": "python3"
  },
  "language_info": {
   "codemirror_mode": {
    "name": "ipython",
    "version": 3
   },
   "file_extension": ".py",
   "mimetype": "text/x-python",
   "name": "python",
   "nbconvert_exporter": "python",
   "pygments_lexer": "ipython3",
   "version": "3.7.0"
  }
 },
 "nbformat": 4,
 "nbformat_minor": 2
}
